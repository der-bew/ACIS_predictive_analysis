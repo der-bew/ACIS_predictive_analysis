{
 "cells": [
  {
   "cell_type": "markdown",
   "metadata": {},
   "source": [
    "# Statistical Modeling"
   ]
  },
  {
   "cell_type": "code",
   "execution_count": 1,
   "metadata": {},
   "outputs": [],
   "source": [
    "import pandas as pd\n",
    "from sklearn.model_selection import train_test_split\n",
    "from sklearn.pipeline import Pipeline\n",
    "from sklearn.compose import ColumnTransformer\n",
    "from sklearn.impute import SimpleImputer\n",
    "from sklearn.preprocessing import OneHotEncoder, StandardScaler\n",
    "from sklearn.linear_model import LinearRegression\n",
    "from sklearn.tree import DecisionTreeRegressor\n",
    "from sklearn.ensemble import RandomForestRegressor\n",
    "import xgboost as xgb\n",
    "from sklearn.metrics import mean_squared_error, mean_absolute_error, r2_score"
   ]
  },
  {
   "cell_type": "code",
   "execution_count": 2,
   "metadata": {},
   "outputs": [],
   "source": [
    "# Gathering Data\n",
    "def loding_data(path):\n",
    "    try:\n",
    "        clean_acis_df = pd.read_csv(path, low_memory=False)\n",
    "    except Exception as e:\n",
    "        print(f\"Error on loading data: {e}\")\n",
    "    else:\n",
    "        return clean_acis_df"
   ]
  },
  {
   "cell_type": "code",
   "execution_count": 3,
   "metadata": {},
   "outputs": [],
   "source": [
    "# loding the data\n",
    "path = \"../data/clean_acis_data.csv\"\n",
    "clean_acis_df = loding_data(path)"
   ]
  },
  {
   "cell_type": "markdown",
   "metadata": {},
   "source": [
    "# Data Preparation\n",
    "Identify categorical and numerical columns:"
   ]
  },
  {
   "cell_type": "code",
   "execution_count": 4,
   "metadata": {},
   "outputs": [],
   "source": [
    "clean_acis_df.drop('Unnamed: 0', axis=1, inplace=True)\n",
    "\n",
    "# Categorize the data\n",
    "categorical_cols = [col for col in clean_acis_df.columns if clean_acis_df[col].dtype == 'object']\n",
    "numerical_cols = [col for col in clean_acis_df.columns if clean_acis_df[col].dtype in ['int64', 'float64'] and col != 'TotalPremium']\n",
    "\n",
    "\n"
   ]
  },
  {
   "cell_type": "markdown",
   "metadata": {},
   "source": [
    "# Preprocessing Pipelines\n",
    "Define preprocessing steps for numerical and categorical data:"
   ]
  },
  {
   "cell_type": "code",
   "execution_count": 5,
   "metadata": {},
   "outputs": [],
   "source": [
    "# Numerical preprocessing pipeline\n",
    "numerical_transformer = Pipeline(steps=[\n",
    "    ('imputer', SimpleImputer(strategy='median')),\n",
    "    ('scaler', StandardScaler())\n",
    "])\n",
    "\n",
    "# Categorical preprocessing pipeline\n",
    "categorical_transformer = Pipeline(steps=[\n",
    "    ('imputer', SimpleImputer(strategy='most_frequent')),\n",
    "    ('onehot', OneHotEncoder(handle_unknown='ignore'))\n",
    "])\n",
    "\n",
    "# Combine preprocessing steps\n",
    "preprocessor = ColumnTransformer(\n",
    "    transformers=[\n",
    "        ('num', numerical_transformer, numerical_cols),\n",
    "        ('cat', categorical_transformer, categorical_cols)\n",
    "    ])\n"
   ]
  },
  {
   "cell_type": "markdown",
   "metadata": {},
   "source": [
    "# Model Pipelines\n",
    "Define pipelines for each model:"
   ]
  },
  {
   "cell_type": "code",
   "execution_count": 6,
   "metadata": {},
   "outputs": [],
   "source": [
    "# Linear Regression pipeline\n",
    "pipeline_lr = Pipeline(steps=[\n",
    "    ('preprocessor', preprocessor),\n",
    "    ('model', LinearRegression())\n",
    "])\n",
    "\n",
    "# Decision Tree pipeline\n",
    "pipeline_tree = Pipeline(steps=[\n",
    "    ('preprocessor', preprocessor),\n",
    "    ('model', DecisionTreeRegressor(random_state=42))\n",
    "])\n",
    "\n",
    "# Random Forest pipeline\n",
    "pipeline_forest = Pipeline(steps=[\n",
    "    ('preprocessor', preprocessor),\n",
    "    ('model', RandomForestRegressor(n_estimators=100, random_state=42))\n",
    "])\n",
    "\n",
    "# XGBoost pipeline\n",
    "pipeline_xgb = Pipeline(steps=[\n",
    "    ('preprocessor', preprocessor),\n",
    "    ('model', xgb.XGBRegressor(objective='reg:squarederror', n_estimators=100, random_state=42))\n",
    "])"
   ]
  },
  {
   "cell_type": "markdown",
   "metadata": {},
   "source": [
    "# Train-Test Split\n",
    "Split the data into training and test sets:"
   ]
  },
  {
   "cell_type": "code",
   "execution_count": 9,
   "metadata": {},
   "outputs": [],
   "source": [
    "X = clean_acis_df.drop('TotalPremium', axis=1)\n",
    "y = clean_acis_df['TotalPremium']\n",
    "\n",
    "X_train, X_test, y_train, y_test = train_test_split(X, y, test_size=0.2, random_state=42)\n"
   ]
  },
  {
   "cell_type": "markdown",
   "metadata": {},
   "source": [
    "# Model Training and Evaluation\n",
    "Train and evaluate each model:"
   ]
  },
  {
   "cell_type": "code",
   "execution_count": 10,
   "metadata": {},
   "outputs": [],
   "source": [
    "def evaluate_model(pipeline, X_train, X_test, y_train, y_test):\n",
    "    pipeline.fit(X_train, y_train)\n",
    "    y_pred = pipeline.predict(X_test)\n",
    "    mse = mean_squared_error(y_test, y_pred)\n",
    "    mae = mean_absolute_error(y_test, y_pred)\n",
    "    r2 = r2_score(y_test, y_pred)\n",
    "    return mse, mae, r2\n",
    "\n",
    "# Linear Regression\n",
    "mse_lr, mae_lr, r2_lr = evaluate_model(pipeline_lr, X_train, X_test, y_train, y_test)\n",
    "\n",
    "# Decision Tree\n",
    "mse_tree, mae_tree, r2_tree = evaluate_model(pipeline_tree, X_train, X_test, y_train, y_test)\n",
    "\n",
    "# Random Forest\n",
    "mse_forest, mae_forest, r2_forest = evaluate_model(pipeline_forest, X_train, X_test, y_train, y_test)\n",
    "\n",
    "# XGBoost\n",
    "mse_xgb, mae_xgb, r2_xgb = evaluate_model(pipeline_xgb, X_train, X_test, y_train, y_test)\n"
   ]
  },
  {
   "cell_type": "markdown",
   "metadata": {},
   "source": [
    "# Feature Importance Analysis\n",
    "For tree-based models, you can extract feature importances:"
   ]
  },
  {
   "cell_type": "code",
   "execution_count": null,
   "metadata": {},
   "outputs": [],
   "source": [
    "# Random Forest feature importances\n",
    "forest_importances = pipeline_forest.named_steps['model'].feature_importances_\n",
    "forest_features = X_train.columns[pipeline_forest.named_steps['preprocessor'].transformers_[0][2]]  # Extract numerical feature names\n",
    "forest_feature_importances = pd.DataFrame({'feature': forest_features, 'importance': forest_importances})\n",
    "print(forest_feature_importances.sort_values(by='importance', ascending=False))\n",
    "\n",
    "# XGBoost feature importances\n",
    "xgb_importances = pipeline_xgb.named_steps['model'].feature_importances_\n",
    "xgb_features = X_train.columns[pipeline_xgb.named_steps['preprocessor'].transformers_[0][2]]  # Extract numerical feature names\n",
    "xgb_feature_importances = pd.DataFrame({'feature': xgb_features, 'importance': xgb_importances})\n",
    "print(xgb_feature_importances.sort_values(by='importance', ascending=False))\n"
   ]
  },
  {
   "cell_type": "markdown",
   "metadata": {},
   "source": [
    "# Report Comparison Between Each Model's Performance\n",
    "Summarize and compare the performance metrics of each model:"
   ]
  },
  {
   "cell_type": "code",
   "execution_count": null,
   "metadata": {},
   "outputs": [],
   "source": [
    "print(f\"\"\"\n",
    "Linear Regression:\n",
    "  MSE: {mse_lr}, MAE: {mae_lr}, R2: {r2_lr}\n",
    "Decision Tree:\n",
    "  MSE: {mse_tree}, MAE: {mae_tree}, R2: {r2_tree}\n",
    "Random Forest:\n",
    "  MSE: {mse_forest}, MAE: {mae_forest}, R2: {r2_forest}\n",
    "XGBoost:\n",
    "  MSE: {mse_xgb}, MAE: {mae_xgb}, R2: {r2_xgb}\n",
    "\"\"\")"
   ]
  }
 ],
 "metadata": {
  "kernelspec": {
   "display_name": "env",
   "language": "python",
   "name": "python3"
  },
  "language_info": {
   "codemirror_mode": {
    "name": "ipython",
    "version": 3
   },
   "file_extension": ".py",
   "mimetype": "text/x-python",
   "name": "python",
   "nbconvert_exporter": "python",
   "pygments_lexer": "ipython3",
   "version": "3.11.5"
  }
 },
 "nbformat": 4,
 "nbformat_minor": 2
}
