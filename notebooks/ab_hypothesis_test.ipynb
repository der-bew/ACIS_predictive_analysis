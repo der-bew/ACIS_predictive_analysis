{
 "cells": [
  {
   "cell_type": "markdown",
   "metadata": {},
   "source": [
    "# A/B Hypothesis Testing"
   ]
  },
  {
   "cell_type": "markdown",
   "metadata": {},
   "source": [
    "Here is the list of hypothesis used for the anlysis:\n",
    "1. Accept or reject the following Null Hypothesis: \n",
    "2. There are no risk differences across provinces \n",
    "3. There are no risk differences between zipcodes \n",
    "4. There are no significant margin (profit) difference between zip codes \n",
    "5. There are not significant risk difference between Women and Men\n",
    "\n",
    "To evaluate the null hypotheses using A/B hypothesis testing on the insurance dataset, I use Scipy python library and I employ the following steps: First, identify key metrics that will be used to measure risk and margin (profit) differences. Secondly, choose the Key Performance Indicator (KPI). Thirdly, create groups based on the feature being tested. Fourthly, perform statistical testing. Finally, interpret the p-values obtained from the tests."
   ]
  },
  {
   "cell_type": "markdown",
   "metadata": {},
   "source": [
    "1. ### Choose the Key Performance Indicator (KPI)\n",
    "\n",
    "The KPIs for the analysis will be:\n",
    "\n",
    "- Risk: Claim frequency or claim count (TotalClaims).\n",
    "- Profit Margin: Calculated as (TotalPremium - TotalClaims) / TotalPremium\n",
    "\n",
    "2. ### Data Segmentation\n",
    "\n",
    "Create groups based on the feature being tested:\n",
    "\n",
    "- Control Group (Group A): Plans without the feature.\n",
    "- Test Group (Group B): Plans with the feature."
   ]
  },
  {
   "cell_type": "code",
   "execution_count": 1,
   "metadata": {},
   "outputs": [],
   "source": [
    "# Import required libraries for the anlysis\n",
    "import pandas as pd\n",
    "import numpy as np\n",
    "from scipy.stats import chi2_contingency, ttest_ind\n",
    "from sklearn.model_selection import train_test_split"
   ]
  },
  {
   "cell_type": "code",
   "execution_count": 2,
   "metadata": {},
   "outputs": [],
   "source": [
    "# Gathering Data\n",
    "def loding_data(path):\n",
    "    try:\n",
    "        clean_acis_df = pd.read_csv(path, low_memory=False)\n",
    "    except Exception as e:\n",
    "        print(f\"Error on loading data: {e}\")\n",
    "    else:\n",
    "        return clean_acis_df"
   ]
  },
  {
   "cell_type": "code",
   "execution_count": 3,
   "metadata": {},
   "outputs": [],
   "source": [
    "path = \"../data/clean_acis_data.csv\"\n",
    "clean_acis_df = loding_data(path)"
   ]
  },
  {
   "cell_type": "markdown",
   "metadata": {},
   "source": [
    "### 3. Statistical Testing"
   ]
  },
  {
   "cell_type": "code",
   "execution_count": 14,
   "metadata": {},
   "outputs": [],
   "source": [
    "# base class\n",
    "def perform_chi_squared_test(df, column1, column2, nullhypo, althypo):\n",
    "    \"\"\"\n",
    "    Creates a contingency table for two columns in a dataframe.\n",
    "\n",
    "    Parameters:\n",
    "    - df: The DataFrame to operate on.\n",
    "    - column1: The first column to cross-tabulate.\n",
    "    - column2: The second column to cross-tabulate.\n",
    "    - nullhypo: The null hypothesis\n",
    "    - althypo: The alternative hypothesis\n",
    "    \n",
    "    return: None\"\"\"\n",
    "    \n",
    "    # Contingency table for provinces and claims\n",
    "    contingency_table = pd.crosstab(df[column1], df[column2])\n",
    "\n",
    "    # segnivicance level\n",
    "    a = 0.05\n",
    "\n",
    "    # Chi-squared test\n",
    "    ttest, p = ttest_ind(contingency_table)\n",
    "\n",
    "    print(f\"Chi-squared test for {column1} vs {column2}\")\n",
    "    print(f\"Chi-Squared value: {ttest_ind}\")\n",
    "    print(f'p-value: {p}')\n",
    "\n",
    "    result = althypo if p < a else nullhypo\n",
    "    print(result)"
   ]
  },
  {
   "cell_type": "code",
   "execution_count": 4,
   "metadata": {},
   "outputs": [],
   "source": [
    "# Function to perform T-test\n",
    "def perform_ttest(groupA, groupB, kpi):\n",
    "    t_stat, p_val = ttest_ind(groupA[kpi], groupB[kpi], equal_var=False)\n",
    "    return t_stat, p_val"
   ]
  },
  {
   "cell_type": "markdown",
   "metadata": {},
   "source": [
    "Null Hypothesis 1: There are no risk differences across provinces.\n",
    "\n",
    "- KPI: TotalPremium."
   ]
  },
  {
   "cell_type": "code",
   "execution_count": 23,
   "metadata": {},
   "outputs": [
    {
     "name": "stdout",
     "output_type": "stream",
     "text": [
      "T-test for 'Provinces' vs TotalPremium\n",
      "T-Test value: -13.63\n",
      "p-value: 0.00\n"
     ]
    }
   ],
   "source": [
    "# Split provinces into two groups\n",
    "col_list = list(clean_acis_df[\"Province\"].unique())\n",
    "provinces_A = clean_acis_df[clean_acis_df['Province'].isin(col_list[:5])]\n",
    "provinces_B = clean_acis_df[clean_acis_df['Province'].isin(col_list[5:])]\n",
    "\n",
    "ttest_value, p = perform_ttest(provinces_A, provinces_B, \"TotalPremium\")\n",
    "print(f\"T-test for 'Provinces' vs TotalPremium\")\n",
    "print(f\"T-Test value: {ttest_value:.2f}\")\n",
    "print(f'p-value: {p:.2f}') \n",
    "\n"
   ]
  },
  {
   "cell_type": "markdown",
   "metadata": {},
   "source": [
    "With such an exceedingly low p-value, we can very confidently reject the null hypothesis and conclude that there's a highly statistically significant difference in TotalPremium between the provinces."
   ]
  },
  {
   "cell_type": "markdown",
   "metadata": {},
   "source": [
    "Null Hypothesis 2: There are no risk differences between zip codes\n",
    "\n",
    "- KPI: TotalPremium (numerical)"
   ]
  },
  {
   "cell_type": "code",
   "execution_count": 28,
   "metadata": {},
   "outputs": [
    {
     "name": "stdout",
     "output_type": "stream",
     "text": [
      "T-test for 'PostalCode' vs TotalPremium\n",
      "T-Test value: 5.34\n",
      "p-value: 0.00\n"
     ]
    }
   ],
   "source": [
    "\n",
    "# Split provinces into two groups\n",
    "col_list = list(clean_acis_df[\"PostalCode\"].unique())\n",
    "postalcode_A = clean_acis_df[clean_acis_df['PostalCode'].isin(col_list[:425])]\n",
    "postalcode_B = clean_acis_df[clean_acis_df['PostalCode'].isin(col_list[425:])]\n",
    "\n",
    "ttest_value, p = perform_ttest(postalcode_A, postalcode_B, \"TotalPremium\")\n",
    "print(f\"T-test for 'PostalCode' vs TotalPremium\")\n",
    "print(f\"T-Test value: {ttest_value:.2f}\")\n",
    "print(f'p-value: {p:.2f}') "
   ]
  },
  {
   "cell_type": "markdown",
   "metadata": {},
   "source": [
    "TotalPremium between postal codes:\n",
    "\n",
    "- T-Test Value (5.34): A positive value suggests that the average TotalPremium in one group (likely postal codes with higher premiums) is higher than the other (lower premiums).\n",
    "- p-value (0.00): An extremely small p-value (essentially zero) indicates a very low probability of observing this difference by chance.\n",
    "\n",
    "With such a low p-value, we can reject the null hypothesis and conclude that there's a statistically significant difference in TotalPremium across postal codes. This means it's highly unlikely that the observed difference occurred randomly."
   ]
  },
  {
   "cell_type": "markdown",
   "metadata": {},
   "source": [
    "Null Hypothesis 3: There are no significant margin (profit) difference between zip codes\n",
    "- KPI: Total Premium - Total Claims (numerical) \n"
   ]
  },
  {
   "cell_type": "code",
   "execution_count": 36,
   "metadata": {},
   "outputs": [
    {
     "name": "stdout",
     "output_type": "stream",
     "text": [
      "T-test for 'PostalCode' vs Margin\n",
      "T-Test value: 5.34\n",
      "p-value: 0.00\n"
     ]
    }
   ],
   "source": [
    "# Calculate margins\n",
    "clean_acis_df['Margin'] = clean_acis_df['TotalPremium'] - clean_acis_df['TotalClaims']\n",
    "\n",
    "col_list = list(clean_acis_df[\"PostalCode\"].unique())\n",
    "postalcode_A = clean_acis_df[clean_acis_df['PostalCode'].isin(col_list[:425])]\n",
    "postalcode_B = clean_acis_df[clean_acis_df['PostalCode'].isin(col_list[425:])]\n",
    "\n",
    "ttest_value, p = perform_ttest(postalcode_A, postalcode_B, \"Margin\")\n",
    "print(f\"T-test for 'PostalCode' vs Margin\")\n",
    "print(f\"T-Test value: {ttest_value:.2f}\")\n",
    "print(f'p-value: {p:.2f}') "
   ]
  },
  {
   "cell_type": "markdown",
   "metadata": {},
   "source": [
    "Margins between postal codes:\n",
    "\n",
    "- T-Test Value (5.34): This positive value, similar to the previous case with TotalPremium, suggests that the average profit margin in one group of postal codes is higher than the other.\n",
    "- p-value (0.00): The extremely low p-value (essentially zero) signifies a very low probability of observing this difference by random chance.\n",
    "\n",
    "\n",
    "We can reject the null hypothesis and conclude that there's a statistically significant difference in profit margin across postal codes. This means it's highly unlikely that the observed difference occurred randomly."
   ]
  },
  {
   "cell_type": "markdown",
   "metadata": {},
   "source": [
    "Null Hypothesis 4: There are not significant risk difference between Women and Men\n",
    "- KPI: Total Premium (numerical)"
   ]
  },
  {
   "cell_type": "code",
   "execution_count": 38,
   "metadata": {},
   "outputs": [
    {
     "name": "stdout",
     "output_type": "stream",
     "text": [
      "T-test for 'Gender' vs TotalPremium\n",
      "T-Test value: 1.38\n",
      "p-value: 0.17\n"
     ]
    }
   ],
   "source": [
    "males = clean_acis_df[clean_acis_df['Gender'] == 'Male']\n",
    "females = clean_acis_df[clean_acis_df['Gender'] == 'Female']\n",
    "\n",
    "ttest_value, p = perform_ttest(males, females, \"TotalPremium\")\n",
    "print(f\"T-test for 'Gender' vs TotalPremium\")\n",
    "print(f\"T-Test value: {ttest_value:.2f}\")\n",
    "print(f'p-value: {p:.2f}') "
   ]
  },
  {
   "cell_type": "markdown",
   "metadata": {},
   "source": [
    "TotalPremiums between Genders\n",
    "- T-Test Value (1.38): The absolute value here is relatively small, indicating that the average TotalPremium between genders might not be very different.\n",
    "- p-value (0.17): This value is greater than the commonly used significance level of 0.05\n",
    "\n",
    "Based on the p-value, we fail to reject the null hypothesis. In other words, there's not enough evidence to conclude that there's a statistically significant difference in TotalPremium between genders. This suggests that, on average, men and women might pay similar total premiums."
   ]
  }
 ],
 "metadata": {
  "kernelspec": {
   "display_name": "Python 3 (ipykernel)",
   "language": "python",
   "name": "python3"
  },
  "language_info": {
   "codemirror_mode": {
    "name": "ipython",
    "version": 3
   },
   "file_extension": ".py",
   "mimetype": "text/x-python",
   "name": "python",
   "nbconvert_exporter": "python",
   "pygments_lexer": "ipython3",
   "version": "3.11.5"
  }
 },
 "nbformat": 4,
 "nbformat_minor": 4
}
